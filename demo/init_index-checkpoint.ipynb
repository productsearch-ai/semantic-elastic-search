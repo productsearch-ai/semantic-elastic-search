{
 "cells": [
  {
   "cell_type": "code",
   "execution_count": 1,
   "id": "89390d54-2c4f-4d99-b888-09b50e12c47b",
   "metadata": {},
   "outputs": [],
   "source": [
    "import pandas as pd\n",
    "from urllib import request\n",
    "import os\n",
    "from elasticsearch import Elasticsearch,helpers\n",
    "import json\n",
    "from tqdm import tqdm\n",
    "import pystache"
   ]
  },
  {
   "cell_type": "markdown",
   "id": "54c58ec0-245d-489c-bfb6-521a05add2b5",
   "metadata": {},
   "source": [
    "### Download example data"
   ]
  },
  {
   "cell_type": "code",
   "execution_count": 2,
   "id": "9693c8bf-1922-4896-b66b-b8221d734939",
   "metadata": {},
   "outputs": [
    {
     "data": {
      "text/plain": [
       "('data/product_data.csv', <http.client.HTTPMessage at 0x7fd649185358>)"
      ]
     },
     "execution_count": 2,
     "metadata": {},
     "output_type": "execute_result"
    }
   ],
   "source": [
    "# Directory\n",
    "data_dir = 'data'\n",
    "file_name='product_data.csv'\n",
    "if not os.path.isdir(data_dir):\n",
    "    os.mkdir(data_dir)\n",
    "# Define the remote file to retrieve\n",
    "remote_data_url = 'https://semantic-elasticsearch-search.s3.ap-southeast-2.amazonaws.com/demo-data/product_data.csv'\n",
    "# Define the local filename to save data\n",
    "data_path = os.path.join(data_dir,file_name)\n",
    "# Make http request for remote file data\n",
    "request.urlretrieve(remote_data_url , data_path)"
   ]
  },
  {
   "cell_type": "code",
   "execution_count": 3,
   "id": "67a8db6e-429f-458d-b5da-ae38b24d3fd0",
   "metadata": {},
   "outputs": [],
   "source": [
    "product_data=pd.read_csv(data_path)"
   ]
  },
  {
   "cell_type": "markdown",
   "id": "896889b2-f660-4a3f-b2b7-5314d3769452",
   "metadata": {},
   "source": [
    "### Connect to Elasticsearch instance"
   ]
  },
  {
   "cell_type": "code",
   "execution_count": 4,
   "id": "7ed64f23-4abf-4f96-a2b0-538ddd5bae37",
   "metadata": {},
   "outputs": [],
   "source": [
    "\n",
    "es = Elasticsearch(\n",
    "    ['localhost'],\n",
    "    scheme=\"http\",\n",
    "    port=9200\n",
    ")"
   ]
  },
  {
   "cell_type": "markdown",
   "id": "ff396b5a-ecf8-4b3e-becf-22736aafcfbb",
   "metadata": {},
   "source": [
    "## Create elasticsearch index\n",
    "### loading mapping"
   ]
  },
  {
   "cell_type": "code",
   "execution_count": 5,
   "id": "93f35679-cfae-4866-bec1-e1efa76f1f4f",
   "metadata": {},
   "outputs": [],
   "source": [
    "index_mapping_file='index_mapping.json'\n",
    "with open(index_mapping_file) as json_file:\n",
    "    index_mapping = json.load(json_file)"
   ]
  },
  {
   "cell_type": "code",
   "execution_count": 6,
   "id": "304229b9-c544-4305-90ff-44bc1c706783",
   "metadata": {},
   "outputs": [
    {
     "data": {
      "text/plain": [
       "{'settings': {'number_of_shards': 5,\n",
       "  'number_of_replicas': 3,\n",
       "  'index': {'similarity': {'default': {'type': 'BM25', 'b': 0.9, 'k1': 0.4}}}},\n",
       " 'mappings': {'properties': {'ProductId': {'type': 'text'},\n",
       "   'ProductName': {'type': 'text', 'search_analyzer': 'standard'},\n",
       "   'Description': {'type': 'text', 'search_analyzer': 'standard'},\n",
       "   'Brand': {'type': 'text', 'search_analyzer': 'standard'},\n",
       "   'Price': {'type': 'float'},\n",
       "   'Category': {'type': 'text', 'search_analyzer': 'standard'},\n",
       "   'ProductUrl': {'type': 'keyword'}}}}"
      ]
     },
     "execution_count": 6,
     "metadata": {},
     "output_type": "execute_result"
    }
   ],
   "source": [
    "index_mapping"
   ]
  },
  {
   "cell_type": "markdown",
   "id": "76039ea0-00ab-401d-bcfe-86fb5ad75c02",
   "metadata": {},
   "source": [
    "### create the index"
   ]
  },
  {
   "cell_type": "code",
   "execution_count": 7,
   "id": "9eb1ddb0-26a9-47d1-896a-cb39cd5dea63",
   "metadata": {},
   "outputs": [
    {
     "name": "stdout",
     "output_type": "stream",
     "text": [
      "creating 'example_index' index...\n"
     ]
    },
    {
     "name": "stderr",
     "output_type": "stream",
     "text": [
      "/home/vincent/miniconda2/envs/semantic-search/lib/python3.6/site-packages/elasticsearch/connection/base.py:208: ElasticsearchWarning: Elasticsearch built-in security features are not enabled. Without authentication, your cluster could be accessible to anyone. See https://www.elastic.co/guide/en/elasticsearch/reference/7.14/security-minimal-setup.html to enable security.\n",
      "  warnings.warn(message, category=ElasticsearchWarning)\n"
     ]
    },
    {
     "data": {
      "text/plain": [
       "{'acknowledged': True, 'shards_acknowledged': True, 'index': 'product_search'}"
      ]
     },
     "execution_count": 7,
     "metadata": {},
     "output_type": "execute_result"
    }
   ],
   "source": [
    "print(\"creating 'example_index' index...\")\n",
    "index_name='product_search'\n",
    "es.indices.create(index = index_name, body = index_mapping)"
   ]
  },
  {
   "cell_type": "code",
   "execution_count": 24,
   "id": "d5b87af3-56e9-418b-b5f6-460258a7249d",
   "metadata": {},
   "outputs": [],
   "source": [
    "product_data=product_data.fillna('')"
   ]
  },
  {
   "cell_type": "markdown",
   "id": "dd1f6f30-6ff8-4c48-96ce-78f5d5fdc0e7",
   "metadata": {},
   "source": [
    "## Ingest documents"
   ]
  },
  {
   "cell_type": "code",
   "execution_count": 26,
   "id": "e1ee2202-29c5-47c1-a1d5-13631e85583d",
   "metadata": {},
   "outputs": [
    {
     "name": "stderr",
     "output_type": "stream",
     "text": [
      "30000it [00:02, 10282.11it/s]\n"
     ]
    }
   ],
   "source": [
    "bulk_data = []\n",
    "\n",
    "for index, row in tqdm(product_data.iterrows()):\n",
    "    category = str(row['Category'])\n",
    "    category=  category.replace('|','::')\n",
    "    price = row['List Price']\n",
    "    if price=='':\n",
    "        price=None\n",
    "    else:\n",
    "        price=float(price)\n",
    "    brand = row['Brand']\n",
    "    desc = row['Description']\n",
    "    new_doc = {\n",
    "    \"_index\": index_name,\n",
    "    \"_id\": index,\n",
    "    \"_source\": {\n",
    "    \"ProductId\": row['Uniq Id'],\n",
    "    \"ProductName\": row['Product Name'],\n",
    "    \"Description\": desc,\n",
    "    \"Brand\":brand,\n",
    "    \"Category\": category,\n",
    "    \"Price\":price,\n",
    "    \"ProductUrl\": row['Product Url']\n",
    "    }}\n",
    "    \n",
    "    bulk_data.append(new_doc)"
   ]
  },
  {
   "cell_type": "code",
   "execution_count": null,
   "id": "c6ab8da2-f210-4a9b-941d-d594cc7388cf",
   "metadata": {},
   "outputs": [],
   "source": []
  },
  {
   "cell_type": "markdown",
   "id": "f69c3d26-d480-47f6-94c0-24d1df3665bf",
   "metadata": {},
   "source": [
    "### Bulk ingest"
   ]
  },
  {
   "cell_type": "code",
   "execution_count": 27,
   "id": "8a12f942-270d-4d4c-a7e1-6f0bb7ef3eff",
   "metadata": {},
   "outputs": [
    {
     "data": {
      "text/plain": [
       "(30000, [])"
      ]
     },
     "execution_count": 27,
     "metadata": {},
     "output_type": "execute_result"
    }
   ],
   "source": [
    "helpers.bulk(es, bulk_data)"
   ]
  },
  {
   "cell_type": "code",
   "execution_count": 28,
   "id": "7f232d63-9978-493b-bf4b-2b90f1898340",
   "metadata": {},
   "outputs": [
    {
     "data": {
      "text/plain": [
       "{'_index': 'product_search',\n",
       " '_id': 0,\n",
       " '_source': {'ProductId': '459b05f3cb7f1cba0a36fdc042ff0056',\n",
       "  'ProductName': 'In Style Eyes Cateye Two Tone Reading Glasses',\n",
       "  'Description': \"Stunning Looking Cat Eye Two Tone Reading Glasses give You an Upscale Look. These Designer Readers will get plenty of compliments. Top Quality Frames with Spring Metal Hinges make them Sturdy yet they have a very Comfortable Fit - You'll Forget you have them on. You'll find them Hard to Live Without. Includes a High Quality Hard Case and Cleaning Cloth, each with an In Style Eyes Logo.|In Style Eyes Cateye Two Tone Reading Glasses\",\n",
       "  'Brand': 'In Style Eyes',\n",
       "  'Category': 'Health::Home Health Care::Daily Living Aids',\n",
       "  'Price': 19.99,\n",
       "  'ProductUrl': 'https://www.walmart.com/ip/In-Style-Eyes-Cateye-Two-Tone-Reading-Glasses/955702070'}}"
      ]
     },
     "execution_count": 28,
     "metadata": {},
     "output_type": "execute_result"
    }
   ],
   "source": [
    "bulk_data[0]"
   ]
  },
  {
   "cell_type": "markdown",
   "id": "393dac3e-96e8-4be3-901e-0e3b8eb4a94d",
   "metadata": {},
   "source": [
    "## Building search function"
   ]
  },
  {
   "cell_type": "code",
   "execution_count": 29,
   "id": "4e1dc6d8-6a53-425b-984a-e6a100813bba",
   "metadata": {},
   "outputs": [],
   "source": [
    "query_template_path='query_template.json'\n",
    "with open(query_template_path) as f:\n",
    "  query_template = json.load(f)\n",
    "query_template_str=json.dumps(query_template)"
   ]
  },
  {
   "cell_type": "code",
   "execution_count": 30,
   "id": "3f098429-7eee-4df0-8f2a-4bad34b5ebf0",
   "metadata": {},
   "outputs": [],
   "source": [
    "def construct_query(keywords, pageno,pagesize):\n",
    "    page_from=(pageno-1)*pagesize\n",
    "    parameters={'start':page_from,'size':pagesize,'keywords':keywords}\n",
    "    query = pystache.render(query_template_str, parameters)\n",
    "    return query"
   ]
  },
  {
   "cell_type": "code",
   "execution_count": 31,
   "id": "cd264dce-1b68-4ac6-ae9a-d1fa6d17d740",
   "metadata": {},
   "outputs": [],
   "source": [
    "def search(keywords, pageno,index_name, es_instance,pagesize=20):\n",
    "    search_query=construct_query(keywords, pageno,pagesize)\n",
    "    results=es_instance.search(index=index_name,body=search_query)\n",
    "    return results"
   ]
  },
  {
   "cell_type": "code",
   "execution_count": 35,
   "id": "5ee6ef76-e0da-4105-96e9-fc04bd28d7f1",
   "metadata": {},
   "outputs": [],
   "source": [
    "res=search('shoes',1,index_name,es)"
   ]
  },
  {
   "cell_type": "code",
   "execution_count": 40,
   "id": "ca1412ed-4b19-442d-addc-9041b8187b34",
   "metadata": {},
   "outputs": [
    {
     "data": {
      "text/plain": [
       "1152"
      ]
     },
     "execution_count": 40,
     "metadata": {},
     "output_type": "execute_result"
    }
   ],
   "source": [
    "res['hits']['total']['value']"
   ]
  },
  {
   "cell_type": "code",
   "execution_count": 47,
   "id": "220ec0fd-4669-4709-af79-ae7221f2d0d9",
   "metadata": {},
   "outputs": [
    {
     "data": {
      "text/plain": [
       "{'ProductId': 'fad6463e7a953bae61543b9e744eda7c',\n",
       " 'ProductName': '5 1/2 Inch Platform Shoes Slingback Pumpes Rhinestone Glamour Sexy Shoes',\n",
       " 'Description': '* Choose From: Black, Bronze, Grey, Green, Purple or Silver * Rhinestone Covered Shoe Including Heel, Platform and Strap * High Heel Peep Toe Slingback Shoes * Medium Width * Womens Shoes| 5 1/2 Inch Platform Shoes Slingback Pumpes Rhinestone Glamour Sexy Shoes',\n",
       " 'Brand': 'PLEASER Day & Night',\n",
       " 'Category': 'Clothing::Shoes::Womens Shoes::Womens Dress Shoes::Womens Dress Shoes',\n",
       " 'Price': 93.99,\n",
       " 'ProductUrl': 'https://www.walmart.com/ip/5-1-2-Inch-Platform-Shoes-Slingback-Pumpes-Rhinestone-Glamour-Sexy-Shoes/156959550'}"
      ]
     },
     "execution_count": 47,
     "metadata": {},
     "output_type": "execute_result"
    }
   ],
   "source": [
    "res['hits']['hits'][0]['_source']"
   ]
  },
  {
   "cell_type": "code",
   "execution_count": null,
   "id": "6df38c29-c9fb-4d3b-851f-d1acf56706bc",
   "metadata": {},
   "outputs": [],
   "source": [
    "es.indices.delete(index=index_name)"
   ]
  },
  {
   "cell_type": "code",
   "execution_count": null,
   "id": "e153c691-e74d-467e-af08-7041b5697ca2",
   "metadata": {},
   "outputs": [],
   "source": []
  }
 ],
 "metadata": {
  "kernelspec": {
   "display_name": "semantic-search",
   "language": "python",
   "name": "semantic-search"
  },
  "language_info": {
   "codemirror_mode": {
    "name": "ipython",
    "version": 3
   },
   "file_extension": ".py",
   "mimetype": "text/x-python",
   "name": "python",
   "nbconvert_exporter": "python",
   "pygments_lexer": "ipython3",
   "version": "3.6.13"
  }
 },
 "nbformat": 4,
 "nbformat_minor": 5
}
